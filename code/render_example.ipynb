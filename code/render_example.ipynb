{
 "cells": [
  {
   "cell_type": "code",
   "execution_count": 1,
   "id": "f1e86528",
   "metadata": {},
   "outputs": [],
   "source": [
    "import random\n",
    "import matplotlib.pyplot as plt\n",
    "%matplotlib inline\n",
    "import mitsuba as mi\n",
    "mi.set_variant('cuda_spectral')\n",
    "import util\n",
    "import numpy as np\n",
    "import config\n",
    "import pandas as pd\n"
   ]
  },
  {
   "cell_type": "markdown",
   "id": "c6bd4791-03ea-459d-9f82-a4b3952a2c38",
   "metadata": {},
   "source": [
    "# Load Sample Random Parameters"
   ]
  },
  {
   "cell_type": "code",
   "execution_count": 2,
   "id": "06be90b5-05e5-4f43-a070-250c5a6d8715",
   "metadata": {},
   "outputs": [
    {
     "data": {
      "text/html": [
       "<div>\n",
       "<style scoped>\n",
       "    .dataframe tbody tr th:only-of-type {\n",
       "        vertical-align: middle;\n",
       "    }\n",
       "\n",
       "    .dataframe tbody tr th {\n",
       "        vertical-align: top;\n",
       "    }\n",
       "\n",
       "    .dataframe thead th {\n",
       "        text-align: right;\n",
       "    }\n",
       "</style>\n",
       "<table border=\"1\" class=\"dataframe\">\n",
       "  <thead>\n",
       "    <tr style=\"text-align: right;\">\n",
       "      <th></th>\n",
       "      <th>id_model</th>\n",
       "      <th>id_hairModel</th>\n",
       "      <th>id_lesion</th>\n",
       "      <th>id_timePoint</th>\n",
       "      <th>id_lesionMat</th>\n",
       "      <th>id_fracBlood</th>\n",
       "      <th>id_mel</th>\n",
       "      <th>id_light</th>\n",
       "      <th>id_hairAlbedo</th>\n",
       "      <th>mi_variant</th>\n",
       "      <th>lesion_scale</th>\n",
       "      <th>lesion_shape</th>\n",
       "      <th>origin_y</th>\n",
       "      <th>calChart_params</th>\n",
       "      <th>ruler_params</th>\n",
       "    </tr>\n",
       "  </thead>\n",
       "  <tbody>\n",
       "    <tr>\n",
       "      <th>0</th>\n",
       "      <td>5.0</td>\n",
       "      <td>5.0</td>\n",
       "      <td>1.0</td>\n",
       "      <td>15.0</td>\n",
       "      <td>15.0</td>\n",
       "      <td>0.050</td>\n",
       "      <td>0.02</td>\n",
       "      <td>19.0</td>\n",
       "      <td>2.0</td>\n",
       "      <td>cuda_spectral</td>\n",
       "      <td>1.5</td>\n",
       "      <td>flat</td>\n",
       "      <td>15.0</td>\n",
       "      <td>[7, 5, 4, 1]</td>\n",
       "      <td>[-1, -4]</td>\n",
       "    </tr>\n",
       "    <tr>\n",
       "      <th>1</th>\n",
       "      <td>30.0</td>\n",
       "      <td>55.0</td>\n",
       "      <td>5.0</td>\n",
       "      <td>15.0</td>\n",
       "      <td>14.0</td>\n",
       "      <td>0.002</td>\n",
       "      <td>0.37</td>\n",
       "      <td>19.0</td>\n",
       "      <td>2.0</td>\n",
       "      <td>cuda_spectral</td>\n",
       "      <td>1.5</td>\n",
       "      <td>flat</td>\n",
       "      <td>15.0</td>\n",
       "      <td>[-7, 8, 4, 0]</td>\n",
       "      <td>[-3, 6]</td>\n",
       "    </tr>\n",
       "  </tbody>\n",
       "</table>\n",
       "</div>"
      ],
      "text/plain": [
       "   id_model  id_hairModel  id_lesion  id_timePoint  id_lesionMat  \\\n",
       "0       5.0           5.0        1.0          15.0          15.0   \n",
       "1      30.0          55.0        5.0          15.0          14.0   \n",
       "\n",
       "   id_fracBlood  id_mel  id_light  id_hairAlbedo     mi_variant  lesion_scale  \\\n",
       "0         0.050    0.02      19.0            2.0  cuda_spectral           1.5   \n",
       "1         0.002    0.37      19.0            2.0  cuda_spectral           1.5   \n",
       "\n",
       "  lesion_shape  origin_y calChart_params ruler_params  \n",
       "0         flat      15.0    [7, 5, 4, 1]     [-1, -4]  \n",
       "1         flat      15.0   [-7, 8, 4, 0]      [-3, 6]  "
      ]
     },
     "execution_count": 2,
     "metadata": {},
     "output_type": "execute_result"
    }
   ],
   "source": [
    "csv_name = config.param_dir +'parameters.csv'\n",
    "data_csv = pd.read_csv(csv_name)\n",
    "data_csv"
   ]
  },
  {
   "cell_type": "markdown",
   "id": "1799bf47-d3b2-4271-aae9-09fe0e6f3961",
   "metadata": {},
   "source": [
    "# Example 1"
   ]
  },
  {
   "cell_type": "code",
   "execution_count": 3,
   "id": "be0a612f-69ff-4180-aa1f-a651b5c77c47",
   "metadata": {},
   "outputs": [],
   "source": [
    "row = 0 # each row corresponds to a parameter combination (model properties and light conditions)\n",
    "params = data_csv.iloc[row]\n",
    "\n",
    "id_model = int(params['id_model']) # skin models ID (used for epidermis, vascular, dermis, hypodermis)\n",
    "id_hairModel = int(params['id_hairModel']) #hair model ID\n",
    "id_lesion = int(params['id_lesion'])  #lesion model ID\n",
    "id_timePoint = int(params['id_timePoint']) #timepoint ID for the growing lesion, which determines the size of the lesion\n",
    "id_lesionMat = int(params['id_lesionMat']) #lesion material ID\n",
    "id_fracBlood = float(params['id_fracBlood'])#blood fraction value\n",
    "id_mel = float(params['id_mel']) #melanosome fraction value\n",
    "id_light = int(params['id_light']) #light condition ID\n",
    "id_hairAlbedo = int(params['id_hairAlbedo']) #hair albedo index\n",
    "id_lesionScale = float(params['lesion_scale']) #lesion scale\n",
    "id_origin_y = float(params['origin_y']) #distance between sensor and skin model\n",
    "calChart_params = params['calChart_params'] #parameters for the calibration chart [x-locatoion, z-location, radius, color]\n",
    "ruler_params = params['ruler_params' ]#parameters for the ruler [x-locatoion, z-location]\n",
    "calChart_params = [int(x)  for x in calChart_params.strip(\"\").strip(\"[\").strip(\"]\").split(\",\")]\n",
    "ruler_params = [int(x) for x in ruler_params.strip(\"\").strip(\"[\").strip(\"]\").split(\",\")]\n",
    "\n",
    "# get material names\n",
    "sel_lesionMat, sel_lightName, sel_hair_albedo = util.get_materials_names(id_lesionMat, id_light, id_hairAlbedo)\n",
    "#get camera model\n",
    "cam_top = util.get_sensor(id_origin_y)\n",
    "# get material names\n",
    "sel_lesionMat, sel_lightName, sel_hair_albedo = util.get_materials_names(id_lesionMat, id_light, id_hairAlbedo)\n"
   ]
  },
  {
   "cell_type": "markdown",
   "id": "da1bb2cc-6a72-42bf-a1f0-23d31bb8bacf",
   "metadata": {},
   "source": [
    "## Example 1: Select the Artifact and Render Image and Mask"
   ]
  },
  {
   "cell_type": "code",
   "execution_count": null,
   "id": "461313c9-a91e-4821-ad3a-757e5a758fe6",
   "metadata": {},
   "outputs": [
    {
     "name": "stderr",
     "output_type": "stream",
     "text": [
      "Clipping input data to the valid range for imshow with RGB data ([0..1] for floats or [0..255] for integers).\n",
      "Clipping input data to the valid range for imshow with RGB data ([0..1] for floats or [0..255] for integers).\n",
      "Clipping input data to the valid range for imshow with RGB data ([0..1] for floats or [0..255] for integers).\n",
      "Clipping input data to the valid range for imshow with RGB data ([0..1] for floats or [0..255] for integers).\n",
      "Clipping input data to the valid range for imshow with RGB data ([0..1] for floats or [0..255] for integers).\n",
      "Clipping input data to the valid range for imshow with RGB data ([0..1] for floats or [0..255] for integers).\n"
     ]
    }
   ],
   "source": [
    "artifact_list = ['None','frame', 'ruler', 'cal_chart', 'hair', 'blood_vessel']\n",
    "\n",
    "fig, ax = plt.subplots(2,len(artifact_list), figsize=(4*len(artifact_list),4))\n",
    "for i, artifact in enumerate(artifact_list):\n",
    "    id_frame = -1 #whether to include a dark frame or not\n",
    "    id_calChart = -1 #whether to include a calibration chart or not\n",
    "    id_ruler = -1 #whether to include a ruler or not\n",
    "    skin_layers_directory=config.sDir_layers_orig #skin components directory (used for epidermis, vascular, dermis, hypodermis, hair)\n",
    "    id_mel = float(params['id_mel']) #melanosome fraction value\n",
    "    \n",
    "    if artifact == 'frame':\n",
    "        id_frame = 1\n",
    "    if artifact == 'cal_chart':\n",
    "        id_calChart = 1\n",
    "    if artifact == 'ruler':\n",
    "        id_ruler = 1\n",
    "    if artifact == 'blood_vessel':\n",
    "        skin_layers_directory = config.sDir_layers_bloodVessel\n",
    "        id_mel = 0.02\n",
    "    if artifact == 'hair':\n",
    "        skin_layers_directory= config.sDir_layers_hair\n",
    "\n",
    "    #rendering the skin image\n",
    "    image_ref = util.render_image(id_model, id_hairModel, id_lesion,\n",
    "                             sel_lesionMat, sel_lightName, sel_hair_albedo, \n",
    "                             id_fracBlood, id_mel,\n",
    "                             id_timePoint, id_origin_y,\n",
    "                             id_frame, id_calChart, calChart_params, id_ruler, ruler_params,\n",
    "                             IMAGE=True,\n",
    "                             lesion_directory=config.sDir_lesion, skin_layers_directory=skin_layers_directory, lesionScale=id_lesionScale)\n",
    "    #rendering the segmentation mask\n",
    "    mask_ref = util.render_image(id_model, id_hairModel, id_lesion,\n",
    "                             sel_lesionMat, sel_lightName, sel_hair_albedo, \n",
    "                             id_fracBlood, id_mel,\n",
    "                             id_timePoint, id_origin_y,\n",
    "                             id_frame, id_calChart, calChart_params, id_ruler, ruler_params,\n",
    "                             IMAGE=False,\n",
    "                             lesion_directory=config.sDir_lesion, skin_layers_directory=skin_layers_directory, lesionScale=id_lesionScale)\n",
    "\n",
    "    modified_image = mi.render(image_ref, sensor=cam_top, spp=32)\n",
    "    ax[0,i].imshow(modified_image.numpy())\n",
    "    ax[0,i].axis('off')\n",
    "    ax[0,i].set_title(artifact.capitalize())\n",
    "    modified_image = mi.render(mask_ref, sensor=cam_top, spp=32)\n",
    "    ax[1,i].imshow(modified_image.numpy())\n",
    "    ax[1,i].axis('off')\n",
    "plt.show()"
   ]
  },
  {
   "cell_type": "code",
   "execution_count": null,
   "id": "19d70bc9-be14-4f54-9fa0-dffa565aec8e",
   "metadata": {},
   "outputs": [],
   "source": []
  }
 ],
 "metadata": {
  "kernelspec": {
   "display_name": "Python 3 (ipykernel)",
   "language": "python",
   "name": "python3"
  },
  "language_info": {
   "codemirror_mode": {
    "name": "ipython",
    "version": 3
   },
   "file_extension": ".py",
   "mimetype": "text/x-python",
   "name": "python",
   "nbconvert_exporter": "python",
   "pygments_lexer": "ipython3",
   "version": "3.12.3"
  }
 },
 "nbformat": 4,
 "nbformat_minor": 5
}
